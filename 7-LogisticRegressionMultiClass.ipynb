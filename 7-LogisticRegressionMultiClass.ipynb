{
 "cells": [
  {
   "cell_type": "code",
   "execution_count": 1,
   "id": "03decb48-dce3-4d76-872d-f757032b4902",
   "metadata": {},
   "outputs": [],
   "source": [
    "import pandas as pd\n",
    "import numpy as np\n",
    "import matplotlib.pyplot as plt\n",
    "import seaborn as sns\n",
    "%matplotlib inline"
   ]
  },
  {
   "cell_type": "code",
   "execution_count": 2,
   "id": "46497a68-43ad-40f3-a408-d9fddd2457ca",
   "metadata": {},
   "outputs": [],
   "source": [
    "df = pd.read_csv(\"7-cyber_attack_data.csv\")"
   ]
  },
  {
   "cell_type": "code",
   "execution_count": 3,
   "id": "d64d39fb-ef96-4300-ad1b-c0088f8e25aa",
   "metadata": {},
   "outputs": [
    {
     "data": {
      "text/plain": [
       "Index(['src_packet_rate', 'dst_packet_rate', 'avg_payload_size',\n",
       "       'connection_duration', 'tcp_flag_count', 'avg_interarrival_time',\n",
       "       'failed_login_attempts', 'unusual_port_activity_score',\n",
       "       'session_entropy', 'avg_response_delay', 'attack_type'],\n",
       "      dtype='object')"
      ]
     },
     "execution_count": 3,
     "metadata": {},
     "output_type": "execute_result"
    }
   ],
   "source": [
    "df.columns"
   ]
  },
  {
   "cell_type": "code",
   "execution_count": 4,
   "id": "84a9aa20-b2dc-456d-82d7-a7253f739b20",
   "metadata": {},
   "outputs": [],
   "source": [
    "# src_packet_rate -> Source-side packet transmission rate\n",
    "# dst_packet_rate -> Destination-side packet reception rate\n",
    "# avg_payload_size -> Average size of payload in packets\n",
    "# connection_duration -> Duration of the connection (in seconds)\n",
    "# tcp_flag_count -> Number of TCP flag occurrences\n",
    "# avg_interarrival_time -> Time between packet arrivals\n",
    "# failed_login_attempts -> Number of failed login attempts\n",
    "# unusual_port_activity_score -> Score representing unusual port usage\n",
    "# session_entropy -> Entropy of session behavior (for anomaly detection)\n",
    "# avg_response_delay -> Average delay in server response (in ms)\n",
    "# attack_type -> 0 = Normal, 1 = DDoS, 2 = Port Scan"
   ]
  },
  {
   "cell_type": "code",
   "execution_count": 5,
   "id": "43bbd6a4-2224-46d6-a8c0-cb795400d767",
   "metadata": {},
   "outputs": [
    {
     "data": {
      "text/html": [
       "<div>\n",
       "<style scoped>\n",
       "    .dataframe tbody tr th:only-of-type {\n",
       "        vertical-align: middle;\n",
       "    }\n",
       "\n",
       "    .dataframe tbody tr th {\n",
       "        vertical-align: top;\n",
       "    }\n",
       "\n",
       "    .dataframe thead th {\n",
       "        text-align: right;\n",
       "    }\n",
       "</style>\n",
       "<table border=\"1\" class=\"dataframe\">\n",
       "  <thead>\n",
       "    <tr style=\"text-align: right;\">\n",
       "      <th></th>\n",
       "      <th>src_packet_rate</th>\n",
       "      <th>dst_packet_rate</th>\n",
       "      <th>avg_payload_size</th>\n",
       "      <th>connection_duration</th>\n",
       "      <th>tcp_flag_count</th>\n",
       "      <th>avg_interarrival_time</th>\n",
       "      <th>failed_login_attempts</th>\n",
       "      <th>unusual_port_activity_score</th>\n",
       "      <th>session_entropy</th>\n",
       "      <th>avg_response_delay</th>\n",
       "      <th>attack_type</th>\n",
       "    </tr>\n",
       "  </thead>\n",
       "  <tbody>\n",
       "    <tr>\n",
       "      <th>0</th>\n",
       "      <td>-1.286132</td>\n",
       "      <td>-0.648334</td>\n",
       "      <td>1.044115</td>\n",
       "      <td>-0.469715</td>\n",
       "      <td>0.789859</td>\n",
       "      <td>-0.083727</td>\n",
       "      <td>-1.647309</td>\n",
       "      <td>-1.316412</td>\n",
       "      <td>1.011910</td>\n",
       "      <td>-0.898063</td>\n",
       "      <td>2</td>\n",
       "    </tr>\n",
       "    <tr>\n",
       "      <th>1</th>\n",
       "      <td>-0.222224</td>\n",
       "      <td>2.083232</td>\n",
       "      <td>1.191114</td>\n",
       "      <td>-1.354527</td>\n",
       "      <td>-0.956992</td>\n",
       "      <td>1.696028</td>\n",
       "      <td>-1.070406</td>\n",
       "      <td>0.981403</td>\n",
       "      <td>-1.628798</td>\n",
       "      <td>1.377594</td>\n",
       "      <td>0</td>\n",
       "    </tr>\n",
       "    <tr>\n",
       "      <th>2</th>\n",
       "      <td>-0.431963</td>\n",
       "      <td>0.375745</td>\n",
       "      <td>-1.370334</td>\n",
       "      <td>0.819214</td>\n",
       "      <td>0.345243</td>\n",
       "      <td>1.389447</td>\n",
       "      <td>-1.904130</td>\n",
       "      <td>1.292602</td>\n",
       "      <td>0.925545</td>\n",
       "      <td>0.232705</td>\n",
       "      <td>0</td>\n",
       "    </tr>\n",
       "    <tr>\n",
       "      <th>3</th>\n",
       "      <td>-0.912633</td>\n",
       "      <td>0.986988</td>\n",
       "      <td>-0.690042</td>\n",
       "      <td>2.014628</td>\n",
       "      <td>-0.442260</td>\n",
       "      <td>0.590347</td>\n",
       "      <td>-1.819353</td>\n",
       "      <td>1.560938</td>\n",
       "      <td>0.823755</td>\n",
       "      <td>0.517762</td>\n",
       "      <td>0</td>\n",
       "    </tr>\n",
       "    <tr>\n",
       "      <th>4</th>\n",
       "      <td>-0.367056</td>\n",
       "      <td>1.667892</td>\n",
       "      <td>0.879172</td>\n",
       "      <td>2.214276</td>\n",
       "      <td>1.846338</td>\n",
       "      <td>-0.894047</td>\n",
       "      <td>1.543838</td>\n",
       "      <td>0.931103</td>\n",
       "      <td>-1.015210</td>\n",
       "      <td>1.061845</td>\n",
       "      <td>1</td>\n",
       "    </tr>\n",
       "  </tbody>\n",
       "</table>\n",
       "</div>"
      ],
      "text/plain": [
       "   src_packet_rate  dst_packet_rate  avg_payload_size  connection_duration  \\\n",
       "0        -1.286132        -0.648334          1.044115            -0.469715   \n",
       "1        -0.222224         2.083232          1.191114            -1.354527   \n",
       "2        -0.431963         0.375745         -1.370334             0.819214   \n",
       "3        -0.912633         0.986988         -0.690042             2.014628   \n",
       "4        -0.367056         1.667892          0.879172             2.214276   \n",
       "\n",
       "   tcp_flag_count  avg_interarrival_time  failed_login_attempts  \\\n",
       "0        0.789859              -0.083727              -1.647309   \n",
       "1       -0.956992               1.696028              -1.070406   \n",
       "2        0.345243               1.389447              -1.904130   \n",
       "3       -0.442260               0.590347              -1.819353   \n",
       "4        1.846338              -0.894047               1.543838   \n",
       "\n",
       "   unusual_port_activity_score  session_entropy  avg_response_delay  \\\n",
       "0                    -1.316412         1.011910           -0.898063   \n",
       "1                     0.981403        -1.628798            1.377594   \n",
       "2                     1.292602         0.925545            0.232705   \n",
       "3                     1.560938         0.823755            0.517762   \n",
       "4                     0.931103        -1.015210            1.061845   \n",
       "\n",
       "   attack_type  \n",
       "0            2  \n",
       "1            0  \n",
       "2            0  \n",
       "3            0  \n",
       "4            1  "
      ]
     },
     "execution_count": 5,
     "metadata": {},
     "output_type": "execute_result"
    }
   ],
   "source": [
    "df.head()"
   ]
  },
  {
   "cell_type": "code",
   "execution_count": 6,
   "id": "3362dd49-58d6-4bd2-8a65-932a733e47c1",
   "metadata": {},
   "outputs": [
    {
     "name": "stdout",
     "output_type": "stream",
     "text": [
      "<class 'pandas.core.frame.DataFrame'>\n",
      "RangeIndex: 1000 entries, 0 to 999\n",
      "Data columns (total 11 columns):\n",
      " #   Column                       Non-Null Count  Dtype  \n",
      "---  ------                       --------------  -----  \n",
      " 0   src_packet_rate              1000 non-null   float64\n",
      " 1   dst_packet_rate              1000 non-null   float64\n",
      " 2   avg_payload_size             1000 non-null   float64\n",
      " 3   connection_duration          1000 non-null   float64\n",
      " 4   tcp_flag_count               1000 non-null   float64\n",
      " 5   avg_interarrival_time        1000 non-null   float64\n",
      " 6   failed_login_attempts        1000 non-null   float64\n",
      " 7   unusual_port_activity_score  1000 non-null   float64\n",
      " 8   session_entropy              1000 non-null   float64\n",
      " 9   avg_response_delay           1000 non-null   float64\n",
      " 10  attack_type                  1000 non-null   int64  \n",
      "dtypes: float64(10), int64(1)\n",
      "memory usage: 86.1 KB\n"
     ]
    }
   ],
   "source": [
    "df.info()"
   ]
  },
  {
   "cell_type": "code",
   "execution_count": 7,
   "id": "10340b6f-adf2-43fd-a1e7-796f1f777ecd",
   "metadata": {},
   "outputs": [],
   "source": [
    "X=df.drop('attack_type',axis=1)\n",
    "y=df['attack_type']"
   ]
  },
  {
   "cell_type": "code",
   "execution_count": 8,
   "id": "f19cbaa5-8f5c-4531-abc6-42e5fbb89401",
   "metadata": {},
   "outputs": [],
   "source": [
    "from sklearn.model_selection import train_test_split\n",
    "X_train,X_test,y_train,y_test=train_test_split(X,y,test_size=0.30,random_state=15)"
   ]
  },
  {
   "cell_type": "code",
   "execution_count": 9,
   "id": "7d4d619d-f123-4c0a-93f8-b2f96211e202",
   "metadata": {},
   "outputs": [],
   "source": [
    "from sklearn.linear_model import LogisticRegression\n",
    "\n",
    "model = LogisticRegression()  # no need to specify multi_class\n",
    "model.fit(X_train, y_train)\n",
    "y_pred = model.predict(X_test)"
   ]
  },
  {
   "cell_type": "code",
   "execution_count": 10,
   "id": "006e6a8c-2c70-45ae-ae32-d84a0489a60d",
   "metadata": {},
   "outputs": [
    {
     "data": {
      "text/plain": [
       "array([2, 0, 0, 0, 2, 0, 1, 1, 2, 0, 2, 1, 2, 1, 0, 0, 2, 2, 0, 2, 0, 0,\n",
       "       0, 1, 1, 1, 1, 2, 2, 2, 1, 0, 2, 2, 2, 2, 1, 2, 1, 0, 2, 1, 0, 2,\n",
       "       1, 1, 2, 0, 0, 0, 2, 0, 1, 2, 0, 2, 1, 2, 2, 1, 0, 0, 0, 2, 1, 2,\n",
       "       1, 0, 2, 0, 2, 0, 2, 1, 2, 0, 2, 1, 1, 2, 1, 0, 1, 2, 2, 0, 2, 2,\n",
       "       1, 0, 1, 0, 0, 0, 1, 1, 2, 1, 1, 0, 1, 1, 1, 2, 1, 1, 1, 0, 0, 1,\n",
       "       2, 1, 2, 1, 0, 1, 2, 0, 0, 1, 0, 0, 2, 1, 0, 1, 0, 2, 2, 1, 0, 2,\n",
       "       2, 2, 1, 2, 0, 2, 0, 2, 1, 0, 2, 0, 2, 2, 0, 1, 1, 2, 1, 2, 1, 1,\n",
       "       0, 0, 1, 1, 1, 2, 2, 0, 0, 2, 2, 1, 2, 1, 1, 1, 0, 0, 1, 0, 1, 2,\n",
       "       0, 2, 2, 0, 2, 1, 1, 1, 2, 1, 0, 1, 0, 1, 1, 2, 0, 2, 1, 2, 1, 0,\n",
       "       1, 2, 0, 2, 1, 0, 1, 0, 2, 1, 0, 1, 2, 0, 0, 0, 0, 0, 0, 1, 2, 0,\n",
       "       2, 0, 2, 1, 2, 1, 0, 0, 1, 1, 2, 1, 0, 2, 1, 0, 2, 1, 1, 2, 2, 1,\n",
       "       1, 2, 2, 1, 2, 2, 2, 2, 0, 2, 2, 2, 0, 2, 0, 0, 1, 2, 1, 1, 2, 0,\n",
       "       2, 0, 1, 0, 1, 2, 2, 1, 2, 2, 2, 2, 0, 2, 1, 0, 0, 0, 2, 1, 2, 2,\n",
       "       2, 1, 0, 0, 2, 1, 2, 2, 1, 2, 1, 2, 1, 2])"
      ]
     },
     "execution_count": 10,
     "metadata": {},
     "output_type": "execute_result"
    }
   ],
   "source": [
    "y_pred"
   ]
  },
  {
   "cell_type": "code",
   "execution_count": 11,
   "id": "3af421f7-75cb-4449-8cbf-5fe416849355",
   "metadata": {},
   "outputs": [
    {
     "name": "stdout",
     "output_type": "stream",
     "text": [
      "score:  0.7866666666666666\n",
      "              precision    recall  f1-score   support\n",
      "\n",
      "           0       0.78      0.91      0.84        90\n",
      "           1       0.74      0.73      0.73        99\n",
      "           2       0.84      0.74      0.78       111\n",
      "\n",
      "    accuracy                           0.79       300\n",
      "   macro avg       0.79      0.79      0.79       300\n",
      "weighted avg       0.79      0.79      0.79       300\n",
      "\n",
      "confusion matrix: \n",
      "  [[82  2  6]\n",
      " [17 72 10]\n",
      " [ 6 23 82]]\n"
     ]
    }
   ],
   "source": [
    "from sklearn.metrics import accuracy_score,classification_report,confusion_matrix\n",
    "score=accuracy_score(y_pred,y_test)\n",
    "print(\"score: \", score)\n",
    "print(classification_report(y_pred,y_test))\n",
    "print(\"confusion matrix: \\n \", confusion_matrix(y_pred,y_test))"
   ]
  },
  {
   "cell_type": "code",
   "execution_count": 12,
   "id": "41ab5686-7fb3-4d87-8725-7ac102ce633f",
   "metadata": {},
   "outputs": [],
   "source": [
    "from sklearn.multiclass import OneVsRestClassifier # if we want we can specify onevsrestclassifier\n",
    "\n",
    "model = OneVsRestClassifier(LogisticRegression())\n",
    "model.fit(X_train, y_train)\n",
    "y_pred = model.predict(X_test)"
   ]
  },
  {
   "cell_type": "code",
   "execution_count": 13,
   "id": "bf2496bc-665d-490d-9938-a49d1d3daebd",
   "metadata": {},
   "outputs": [
    {
     "data": {
      "text/plain": [
       "array([2, 0, 0, 0, 2, 0, 1, 1, 2, 0, 2, 1, 2, 1, 0, 0, 2, 2, 0, 2, 0, 0,\n",
       "       0, 1, 1, 1, 1, 2, 2, 2, 1, 0, 2, 2, 2, 2, 1, 2, 2, 0, 2, 1, 0, 2,\n",
       "       1, 1, 2, 0, 0, 0, 2, 0, 1, 2, 0, 2, 1, 2, 2, 1, 0, 0, 0, 2, 1, 2,\n",
       "       1, 0, 2, 0, 2, 0, 2, 1, 2, 0, 2, 1, 2, 2, 1, 0, 0, 2, 2, 0, 2, 2,\n",
       "       1, 0, 1, 0, 0, 0, 1, 1, 2, 1, 1, 0, 1, 1, 1, 2, 1, 1, 1, 0, 0, 1,\n",
       "       2, 1, 2, 1, 0, 1, 2, 0, 0, 1, 0, 0, 2, 1, 0, 1, 0, 2, 2, 1, 0, 2,\n",
       "       2, 2, 2, 2, 0, 2, 0, 2, 1, 0, 2, 0, 2, 2, 0, 1, 1, 2, 1, 2, 1, 1,\n",
       "       0, 0, 1, 1, 1, 2, 2, 0, 0, 2, 2, 1, 2, 1, 1, 1, 0, 0, 1, 0, 1, 2,\n",
       "       0, 2, 2, 0, 2, 1, 1, 1, 2, 1, 0, 1, 0, 1, 1, 2, 0, 2, 1, 2, 1, 0,\n",
       "       1, 2, 0, 2, 1, 0, 1, 0, 2, 1, 0, 1, 2, 0, 0, 0, 0, 0, 0, 1, 2, 0,\n",
       "       2, 0, 2, 1, 2, 1, 0, 0, 1, 1, 2, 1, 0, 2, 1, 0, 2, 1, 1, 2, 2, 1,\n",
       "       1, 2, 2, 1, 2, 2, 2, 2, 0, 2, 2, 2, 0, 2, 0, 0, 1, 2, 1, 1, 2, 0,\n",
       "       2, 0, 1, 0, 1, 2, 2, 1, 2, 2, 2, 2, 0, 2, 1, 0, 0, 0, 2, 1, 2, 2,\n",
       "       2, 1, 0, 0, 2, 1, 2, 2, 2, 2, 1, 2, 1, 2])"
      ]
     },
     "execution_count": 13,
     "metadata": {},
     "output_type": "execute_result"
    }
   ],
   "source": [
    "y_pred"
   ]
  },
  {
   "cell_type": "code",
   "execution_count": 14,
   "id": "ed521a5a-9d33-4803-88f9-2a27bf358c2f",
   "metadata": {},
   "outputs": [
    {
     "name": "stdout",
     "output_type": "stream",
     "text": [
      "score:  0.7833333333333333\n",
      "              precision    recall  f1-score   support\n",
      "\n",
      "           0       0.79      0.91      0.85        91\n",
      "           1       0.71      0.73      0.72        94\n",
      "           2       0.85      0.72      0.78       115\n",
      "\n",
      "    accuracy                           0.78       300\n",
      "   macro avg       0.78      0.79      0.78       300\n",
      "weighted avg       0.79      0.78      0.78       300\n",
      "\n",
      "confusion matrix: \n",
      " [[83  2  6]\n",
      " [16 69  9]\n",
      " [ 6 26 83]]\n"
     ]
    }
   ],
   "source": [
    "score=accuracy_score(y_pred,y_test)\n",
    "print(\"score: \", score)\n",
    "print(classification_report(y_pred,y_test))\n",
    "print(\"confusion matrix: \\n\", confusion_matrix(y_pred,y_test))"
   ]
  },
  {
   "cell_type": "code",
   "execution_count": null,
   "id": "4c25c9b1-e827-4b6d-82a8-8f1f4f3d3101",
   "metadata": {},
   "outputs": [],
   "source": []
  }
 ],
 "metadata": {
  "kernelspec": {
   "display_name": "Python 3 (ipykernel)",
   "language": "python",
   "name": "python3"
  },
  "language_info": {
   "codemirror_mode": {
    "name": "ipython",
    "version": 3
   },
   "file_extension": ".py",
   "mimetype": "text/x-python",
   "name": "python",
   "nbconvert_exporter": "python",
   "pygments_lexer": "ipython3",
   "version": "3.12.7"
  }
 },
 "nbformat": 4,
 "nbformat_minor": 5
}
